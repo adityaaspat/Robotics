{
 "cells": [
  {
   "cell_type": "code",
   "execution_count": null,
   "metadata": {},
   "outputs": [],
   "source": [
    "import cv2\n",
    "import matplotlib.pyplot as plt\n",
    "import glob"
   ]
  },
  {
   "cell_type": "code",
   "execution_count": 2,
   "metadata": {},
   "outputs": [],
   "source": [
    "data={}"
   ]
  },
  {
   "cell_type": "code",
   "execution_count": null,
   "metadata": {},
   "outputs": [],
   "source": [
    "\n",
    "flag=0\n",
    "def select_point(event, x, y, flags, param):\n",
    "    if event == cv2.EVENT_LBUTTONDOWN:\n",
    "        points.append((x, y))\n",
    "        print(f\"Point selected: {(x, y)}\")\n",
    "        # Draw a small circle where the user clicked\n",
    "        cv2.circle(image, (x, y), 5, (0, 255, 0), -1)\n",
    "        cv2.imshow(\"Image\", image)\n",
    "\n",
    "# Get a list of image files\n",
    "image_files = glob.glob(\"/media/aditya/ExtraSpace/track_images/*.jpg\")\n",
    "\n",
    "for image_path in image_files:\n",
    "    # Read the image\n",
    "    image = cv2.imread(image_path)\n",
    "    if image is None:\n",
    "        print(f\"Error reading image: {image_path}\")\n",
    "        continue\n",
    "\n",
    "    # Initialize points list for the current image\n",
    "    points = []\n",
    "\n",
    "    # Display the image\n",
    "    cv2.imshow(\"Image\", image)\n",
    "    cv2.setMouseCallback(\"Image\", select_point)\n",
    "\n",
    "    while True:\n",
    "        # Wait for a key press\n",
    "        key = cv2.waitKey(0)\n",
    "\n",
    "        # Skip to the next image if 'q' is pressed\n",
    "        if key == ord('q'):\n",
    "            print(f\"Skipping image: {image_path}\")\n",
    "            cv2.destroyWindow(\"Image\")\n",
    "            break\n",
    "\n",
    "        # Go to the next image if 'x' is pressed or the window is closed\n",
    "        elif key == ord('x') :\n",
    "            print(f\"Moving to next image: {image_path}\")\n",
    "            if points:\n",
    "                data[image_path] = points\n",
    "                print(f\"Points for {image_path}: {points}\")\n",
    "            cv2.destroyWindow(\"Image\")\n",
    "            break\n",
    "        \n",
    "        elif key == ord('e'):\n",
    "            print(\"Exiting...\")\n",
    "            cv2.destroyAllWindows()\n",
    "            flag=1\n",
    "    if flag==1:\n",
    "        break\n",
    "        # Exit the entire loop if 'e' is pressed\n",
    "      \n",
    "\n",
    "# Destroy all OpenCV windows after the loop\n",
    "cv2.destroyAllWindows()\n",
    "\n",
    "# Optionally, print or save the collected data\n",
    "print(\"Collected data:\", data)\n"
   ]
  },
  {
   "cell_type": "code",
   "execution_count": 7,
   "metadata": {},
   "outputs": [
    {
     "name": "stdout",
     "output_type": "stream",
     "text": [
      "JSON file saved to: /media/aditya/ExtraSpace/track_images/track_images.json\n"
     ]
    }
   ],
   "source": [
    "import json\n",
    "json_file_path = '/media/aditya/ExtraSpace/track_images/track_images.json'\n",
    "\n",
    "# Write the data to a JSON file?\n",
    "with open(json_file_path, 'w') as json_file:\n",
    "    json.dump(data, json_file, indent=4)\n",
    "\n",
    "print(f\"JSON file saved to: {json_file_path}\")"
   ]
  },
  {
   "cell_type": "code",
   "execution_count": 8,
   "metadata": {},
   "outputs": [
    {
     "data": {
      "text/plain": [
       "252"
      ]
     },
     "execution_count": 8,
     "metadata": {},
     "output_type": "execute_result"
    }
   ],
   "source": [
    "data.__len__()\n"
   ]
  },
  {
   "cell_type": "code",
   "execution_count": null,
   "metadata": {},
   "outputs": [],
   "source": []
  }
 ],
 "metadata": {
  "kernelspec": {
   "display_name": "base",
   "language": "python",
   "name": "python3"
  },
  "language_info": {
   "codemirror_mode": {
    "name": "ipython",
    "version": 3
   },
   "file_extension": ".py",
   "mimetype": "text/x-python",
   "name": "python",
   "nbconvert_exporter": "python",
   "pygments_lexer": "ipython3",
   "version": "3.12.4"
  }
 },
 "nbformat": 4,
 "nbformat_minor": 2
}
