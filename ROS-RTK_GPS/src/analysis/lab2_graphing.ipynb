{
 "cells": [
  {
   "cell_type": "code",
   "execution_count": 42,
   "metadata": {},
   "outputs": [],
   "source": [
    "import pandas as pd\n",
    "import math\n",
    "import numpy as np\n",
    "import matplotlib.pyplot as plt"
   ]
  },
  {
   "cell_type": "code",
   "execution_count": 43,
   "metadata": {},
   "outputs": [],
   "source": [
    "d1 = pd.read_csv('lab_two_bag_files/walking_data_occ.csv')\n",
    "d2=d1[d1['field.indicator']==5.0]"
   ]
  },
  {
   "cell_type": "code",
   "execution_count": 44,
   "metadata": {},
   "outputs": [
    {
     "data": {
      "text/html": [
       "<div>\n",
       "<style scoped>\n",
       "    .dataframe tbody tr th:only-of-type {\n",
       "        vertical-align: middle;\n",
       "    }\n",
       "\n",
       "    .dataframe tbody tr th {\n",
       "        vertical-align: top;\n",
       "    }\n",
       "\n",
       "    .dataframe thead th {\n",
       "        text-align: right;\n",
       "    }\n",
       "</style>\n",
       "<table border=\"1\" class=\"dataframe\">\n",
       "  <thead>\n",
       "    <tr style=\"text-align: right;\">\n",
       "      <th></th>\n",
       "      <th>%time</th>\n",
       "      <th>field.header.seq</th>\n",
       "      <th>field.header.stamp</th>\n",
       "      <th>field.header.frame_id</th>\n",
       "      <th>field.latitude</th>\n",
       "      <th>field.longitude</th>\n",
       "      <th>field.altitude</th>\n",
       "      <th>field.indicator</th>\n",
       "      <th>field.utm_easting</th>\n",
       "      <th>field.utm_northing</th>\n",
       "      <th>field.zone</th>\n",
       "      <th>field.letter</th>\n",
       "    </tr>\n",
       "  </thead>\n",
       "  <tbody>\n",
       "    <tr>\n",
       "      <th>0</th>\n",
       "      <td>1697043472264996050</td>\n",
       "      <td>1</td>\n",
       "      <td>61068000000000</td>\n",
       "      <td>GPS1_Frame</td>\n",
       "      <td>42.338547</td>\n",
       "      <td>-71.052551</td>\n",
       "      <td>0.10167</td>\n",
       "      <td>5.0</td>\n",
       "      <td>6693.651367</td>\n",
       "      <td>46743.671875</td>\n",
       "      <td>42.0</td>\n",
       "      <td>T</td>\n",
       "    </tr>\n",
       "    <tr>\n",
       "      <th>1</th>\n",
       "      <td>1697043473306381849</td>\n",
       "      <td>2</td>\n",
       "      <td>61069000000000</td>\n",
       "      <td>GPS1_Frame</td>\n",
       "      <td>42.338547</td>\n",
       "      <td>-71.052551</td>\n",
       "      <td>0.10142</td>\n",
       "      <td>5.0</td>\n",
       "      <td>6693.651367</td>\n",
       "      <td>46743.671875</td>\n",
       "      <td>42.0</td>\n",
       "      <td>T</td>\n",
       "    </tr>\n",
       "    <tr>\n",
       "      <th>2</th>\n",
       "      <td>1697043474339554561</td>\n",
       "      <td>3</td>\n",
       "      <td>61070000000000</td>\n",
       "      <td>GPS1_Frame</td>\n",
       "      <td>42.338547</td>\n",
       "      <td>-71.052551</td>\n",
       "      <td>0.10148</td>\n",
       "      <td>5.0</td>\n",
       "      <td>6693.651367</td>\n",
       "      <td>46743.671875</td>\n",
       "      <td>42.0</td>\n",
       "      <td>T</td>\n",
       "    </tr>\n",
       "    <tr>\n",
       "      <th>3</th>\n",
       "      <td>1697043475371931805</td>\n",
       "      <td>4</td>\n",
       "      <td>61071000000000</td>\n",
       "      <td>GPS1_Frame</td>\n",
       "      <td>42.338543</td>\n",
       "      <td>-71.052551</td>\n",
       "      <td>0.10123</td>\n",
       "      <td>5.0</td>\n",
       "      <td>6693.650391</td>\n",
       "      <td>46743.667969</td>\n",
       "      <td>42.0</td>\n",
       "      <td>T</td>\n",
       "    </tr>\n",
       "    <tr>\n",
       "      <th>4</th>\n",
       "      <td>1697043476406435015</td>\n",
       "      <td>5</td>\n",
       "      <td>61072000000000</td>\n",
       "      <td>GPS1_Frame</td>\n",
       "      <td>42.338539</td>\n",
       "      <td>-71.052544</td>\n",
       "      <td>0.10133</td>\n",
       "      <td>5.0</td>\n",
       "      <td>6693.646973</td>\n",
       "      <td>46743.664062</td>\n",
       "      <td>42.0</td>\n",
       "      <td>T</td>\n",
       "    </tr>\n",
       "    <tr>\n",
       "      <th>...</th>\n",
       "      <td>...</td>\n",
       "      <td>...</td>\n",
       "      <td>...</td>\n",
       "      <td>...</td>\n",
       "      <td>...</td>\n",
       "      <td>...</td>\n",
       "      <td>...</td>\n",
       "      <td>...</td>\n",
       "      <td>...</td>\n",
       "      <td>...</td>\n",
       "      <td>...</td>\n",
       "      <td>...</td>\n",
       "    </tr>\n",
       "    <tr>\n",
       "      <th>337</th>\n",
       "      <td>1697043820775292704</td>\n",
       "      <td>338</td>\n",
       "      <td>61405000000000</td>\n",
       "      <td>GPS1_Frame</td>\n",
       "      <td>42.338657</td>\n",
       "      <td>-71.052734</td>\n",
       "      <td>0.08178</td>\n",
       "      <td>5.0</td>\n",
       "      <td>6693.739258</td>\n",
       "      <td>46743.746094</td>\n",
       "      <td>42.0</td>\n",
       "      <td>T</td>\n",
       "    </tr>\n",
       "    <tr>\n",
       "      <th>338</th>\n",
       "      <td>1697043821808847068</td>\n",
       "      <td>339</td>\n",
       "      <td>61406000000000</td>\n",
       "      <td>GPS1_Frame</td>\n",
       "      <td>42.338650</td>\n",
       "      <td>-71.052727</td>\n",
       "      <td>0.08253</td>\n",
       "      <td>5.0</td>\n",
       "      <td>6693.734375</td>\n",
       "      <td>46743.742188</td>\n",
       "      <td>42.0</td>\n",
       "      <td>T</td>\n",
       "    </tr>\n",
       "    <tr>\n",
       "      <th>339</th>\n",
       "      <td>1697043822842206414</td>\n",
       "      <td>340</td>\n",
       "      <td>61407000000000</td>\n",
       "      <td>GPS1_Frame</td>\n",
       "      <td>42.338646</td>\n",
       "      <td>-71.052711</td>\n",
       "      <td>0.08208</td>\n",
       "      <td>5.0</td>\n",
       "      <td>6693.729492</td>\n",
       "      <td>46743.738281</td>\n",
       "      <td>42.0</td>\n",
       "      <td>T</td>\n",
       "    </tr>\n",
       "    <tr>\n",
       "      <th>340</th>\n",
       "      <td>1697043823873438564</td>\n",
       "      <td>341</td>\n",
       "      <td>61408000000000</td>\n",
       "      <td>GPS1_Frame</td>\n",
       "      <td>42.338638</td>\n",
       "      <td>-71.052704</td>\n",
       "      <td>0.08237</td>\n",
       "      <td>5.0</td>\n",
       "      <td>6693.724609</td>\n",
       "      <td>46743.734375</td>\n",
       "      <td>42.0</td>\n",
       "      <td>T</td>\n",
       "    </tr>\n",
       "    <tr>\n",
       "      <th>341</th>\n",
       "      <td>1697043824914836801</td>\n",
       "      <td>342</td>\n",
       "      <td>61409000000000</td>\n",
       "      <td>GPS1_Frame</td>\n",
       "      <td>42.338634</td>\n",
       "      <td>-71.052696</td>\n",
       "      <td>0.08142</td>\n",
       "      <td>5.0</td>\n",
       "      <td>6693.719727</td>\n",
       "      <td>46743.730469</td>\n",
       "      <td>42.0</td>\n",
       "      <td>T</td>\n",
       "    </tr>\n",
       "  </tbody>\n",
       "</table>\n",
       "<p>300 rows × 12 columns</p>\n",
       "</div>"
      ],
      "text/plain": [
       "                   %time  field.header.seq  field.header.stamp  \\\n",
       "0    1697043472264996050                 1      61068000000000   \n",
       "1    1697043473306381849                 2      61069000000000   \n",
       "2    1697043474339554561                 3      61070000000000   \n",
       "3    1697043475371931805                 4      61071000000000   \n",
       "4    1697043476406435015                 5      61072000000000   \n",
       "..                   ...               ...                 ...   \n",
       "337  1697043820775292704               338      61405000000000   \n",
       "338  1697043821808847068               339      61406000000000   \n",
       "339  1697043822842206414               340      61407000000000   \n",
       "340  1697043823873438564               341      61408000000000   \n",
       "341  1697043824914836801               342      61409000000000   \n",
       "\n",
       "    field.header.frame_id  field.latitude  field.longitude  field.altitude  \\\n",
       "0              GPS1_Frame       42.338547       -71.052551         0.10167   \n",
       "1              GPS1_Frame       42.338547       -71.052551         0.10142   \n",
       "2              GPS1_Frame       42.338547       -71.052551         0.10148   \n",
       "3              GPS1_Frame       42.338543       -71.052551         0.10123   \n",
       "4              GPS1_Frame       42.338539       -71.052544         0.10133   \n",
       "..                    ...             ...              ...             ...   \n",
       "337            GPS1_Frame       42.338657       -71.052734         0.08178   \n",
       "338            GPS1_Frame       42.338650       -71.052727         0.08253   \n",
       "339            GPS1_Frame       42.338646       -71.052711         0.08208   \n",
       "340            GPS1_Frame       42.338638       -71.052704         0.08237   \n",
       "341            GPS1_Frame       42.338634       -71.052696         0.08142   \n",
       "\n",
       "     field.indicator  field.utm_easting  field.utm_northing  field.zone  \\\n",
       "0                5.0        6693.651367        46743.671875        42.0   \n",
       "1                5.0        6693.651367        46743.671875        42.0   \n",
       "2                5.0        6693.651367        46743.671875        42.0   \n",
       "3                5.0        6693.650391        46743.667969        42.0   \n",
       "4                5.0        6693.646973        46743.664062        42.0   \n",
       "..               ...                ...                 ...         ...   \n",
       "337              5.0        6693.739258        46743.746094        42.0   \n",
       "338              5.0        6693.734375        46743.742188        42.0   \n",
       "339              5.0        6693.729492        46743.738281        42.0   \n",
       "340              5.0        6693.724609        46743.734375        42.0   \n",
       "341              5.0        6693.719727        46743.730469        42.0   \n",
       "\n",
       "    field.letter  \n",
       "0              T  \n",
       "1              T  \n",
       "2              T  \n",
       "3              T  \n",
       "4              T  \n",
       "..           ...  \n",
       "337            T  \n",
       "338            T  \n",
       "339            T  \n",
       "340            T  \n",
       "341            T  \n",
       "\n",
       "[300 rows x 12 columns]"
      ]
     },
     "execution_count": 44,
     "metadata": {},
     "output_type": "execute_result"
    }
   ],
   "source": [
    "d2"
   ]
  },
  {
   "cell_type": "code",
   "execution_count": 45,
   "metadata": {},
   "outputs": [
    {
     "data": {
      "text/plain": [
       "0      5268.0\n",
       "1      5269.0\n",
       "2      5270.0\n",
       "3      5271.0\n",
       "4      5272.0\n",
       "        ...  \n",
       "337    5605.0\n",
       "338    5606.0\n",
       "339    5607.0\n",
       "340    5608.0\n",
       "341    5609.0\n",
       "Name: field.header.stamp, Length: 300, dtype: float64"
      ]
     },
     "execution_count": 45,
     "metadata": {},
     "output_type": "execute_result"
    }
   ],
   "source": [
    "x=(d1['field.header.stamp']-55770000000000)/1000000000\n",
    "x1=(d2['field.header.stamp']-55800000000000)/1000000000\n",
    "x1"
   ]
  },
  {
   "cell_type": "code",
   "execution_count": 46,
   "metadata": {},
   "outputs": [],
   "source": [
    "def plotGraph(x, y, scale = False):\n",
    "\n",
    "    a = np.array(x)\n",
    "    b = np.array(y)\n",
    "    plt.plot(a, b)\n",
    "    plt.grid(True)\n",
    "    "
   ]
  },
  {
   "cell_type": "code",
   "execution_count": 47,
   "metadata": {},
   "outputs": [],
   "source": [
    "def mse(x):\n",
    "\n",
    "    y = (x - x.mean()) ** 2\n",
    "    return y"
   ]
  },
  {
   "cell_type": "code",
   "execution_count": 48,
   "metadata": {},
   "outputs": [
    {
     "data": {
      "text/plain": [
       "Text(0, 0.5, 'Northing')"
      ]
     },
     "execution_count": 48,
     "metadata": {},
     "output_type": "execute_result"
    },
    {
     "data": {
      "image/png": "[encoded data removed]",
      "text/plain": [
       "<Figure size 432x288 with 1 Axes>"
      ]
     },
     "metadata": {
      "needs_background": "light"
     },
     "output_type": "display_data"
    }
   ],
   "source": [
    "#NORTHING\n",
    "plotGraph(x1, d2['field.utm_northing']-46740)\n",
    "plt.ylim()\n",
    "plt.xlabel('Time')\n",
    "plt.ylabel('Northing')\n"
   ]
  },
  {
   "cell_type": "code",
   "execution_count": 49,
   "metadata": {},
   "outputs": [
    {
     "data": {
      "text/plain": [
       "0.0"
      ]
     },
     "execution_count": 49,
     "metadata": {},
     "output_type": "execute_result"
    }
   ],
   "source": [
    "X=d2['field.utm_easting']\n",
    "Y=X-X.mean()\n",
    "Y.sum()"
   ]
  },
  {
   "cell_type": "code",
   "execution_count": 50,
   "metadata": {},
   "outputs": [
    {
     "data": {
      "text/plain": [
       "Text(0.5, 0, 'time')"
      ]
     },
     "execution_count": 50,
     "metadata": {},
     "output_type": "execute_result"
    },
    {
     "data": {
      "image/png": "[encoded data removed]",
      "text/plain": [
       "<Figure size 432x288 with 1 Axes>"
      ]
     },
     "metadata": {
      "needs_background": "light"
     },
     "output_type": "display_data"
    }
   ],
   "source": [
    "#MSE\n",
    "plotGraph(x1,mse(d2['field.utm_northing']))\n",
    "plt.ylabel('MEAN ERROR')\n",
    "plt.xlabel('time')"
   ]
  },
  {
   "cell_type": "code",
   "execution_count": 51,
   "metadata": {},
   "outputs": [
    {
     "data": {
      "text/plain": [
       "0.27573955763990915"
      ]
     },
     "execution_count": 51,
     "metadata": {},
     "output_type": "execute_result"
    }
   ],
   "source": [
    "#STD\n",
    "d2['field.utm_easting'].std(axis=0)"
   ]
  },
  {
   "cell_type": "code",
   "execution_count": 52,
   "metadata": {},
   "outputs": [
    {
     "data": {
      "text/plain": [
       "Text(0.5, 0, 'time')"
      ]
     },
     "execution_count": 52,
     "metadata": {},
     "output_type": "execute_result"
    },
    {
     "data": {
      "image/png": "[encoded data removed]",
      "text/plain": [
       "<Figure size 432x288 with 1 Axes>"
      ]
     },
     "metadata": {
      "needs_background": "light"
     },
     "output_type": "display_data"
    }
   ],
   "source": [
    "#EASTING\n",
    "plotGraph(x1, d2['field.utm_easting']-6693)\n",
    "plt.ylim()\n",
    "plt.ylabel('Easting')\n",
    "plt.xlabel('time')\n",
    "#0.96328125-0.9654296875"
   ]
  },
  {
   "cell_type": "code",
   "execution_count": 53,
   "metadata": {},
   "outputs": [
    {
     "data": {
      "text/plain": [
       "-0.431640625"
      ]
     },
     "execution_count": 53,
     "metadata": {},
     "output_type": "execute_result"
    }
   ],
   "source": [
    "d2['field.utm_easting'][0]-d2['field.utm_easting'][262]\n"
   ]
  },
  {
   "cell_type": "code",
   "execution_count": 54,
   "metadata": {},
   "outputs": [
    {
     "data": {
      "text/plain": [
       "Text(0.5, 0, 'time')"
      ]
     },
     "execution_count": 54,
     "metadata": {},
     "output_type": "execute_result"
    },
    {
     "data": {
      "image/png": "[encoded data removed]",
      "text/plain": [
       "<Figure size 432x288 with 1 Axes>"
      ]
     },
     "metadata": {
      "needs_background": "light"
     },
     "output_type": "display_data"
    }
   ],
   "source": [
    "#MSE\n",
    "plotGraph(x1,mse(d2['field.utm_easting']))\n",
    "plt.ylabel('MEAN ERROR')\n",
    "plt.xlabel('time')"
   ]
  }
 ],
 "metadata": {
  "kernelspec": {
   "display_name": "Python 3",
   "language": "python",
   "name": "python3"
  },
  "language_info": {
   "codemirror_mode": {
    "name": "ipython",
    "version": 3
   },
   "file_extension": ".py",
   "mimetype": "text/x-python",
   "name": "python",
   "nbconvert_exporter": "python",
   "pygments_lexer": "ipython3",
   "version": "3.8.10"
  },
  "orig_nbformat": 4
 },
 "nbformat": 4,
 "nbformat_minor": 2
}
